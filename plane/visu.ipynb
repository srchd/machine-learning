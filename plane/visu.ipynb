{
 "cells": [
  {
   "cell_type": "markdown",
   "metadata": {},
   "source": [
    "[![Open In Colab](https://colab.research.google.com/assets/colab-badge.svg)](https://colab.research.google.com/github/srchd/machine-learning/blob/visu/setting-up-visu/plane/visu.ipynb)"
   ]
  },
  {
   "cell_type": "code",
   "execution_count": null,
   "metadata": {},
   "outputs": [],
   "source": [
    "import os\n",
    "import pickle\n",
    "\n",
    "import matplotlib.pyplot as plt\n",
    "\n",
    "import tensorflow as tf\n",
    "\n",
    "from tensorflow.keras.models import Model, Sequential\n",
    "from tensorflow.keras.layers import Dropout, Input, Conv2D, AveragePooling2D, MaxPooling2D, Flatten, Dense\n",
    "from tensorflow.keras.callbacks import EarlyStopping, ModelCheckpoint\n",
    "from tensorflow.keras.preprocessing.image import ImageDataGenerator\n",
    "import tensorflow.keras.optimizers\n",
    "\n",
    "!wget -nc -P datasets/ http://nipg12.inf.elte.hu/~vavsaai@nipg.lab/annbsc21_p1_hw3/VOC2012/class_data.pkl\n",
    "!wget -nc -P datasets/ http://nipg12.inf.elte.hu/~vavsaai@nipg.lab/annbsc21_p1_hw3/VOC2012/class_label.pkl\n",
    "\n",
    "CAT_NAMES = ['aeroplane', 'bird', 'boat', 'bus', 'car', 'cat', 'cow', 'dog', 'horse', 'sheep']\n",
    "\n",
    "with open('datasets/class_data.pkl', 'rb') as f:\n",
    "    arr_cl_data = pickle.load(f)\n",
    "\n",
    "with open('datasets/class_label.pkl', 'rb') as f:\n",
    "    arr_cl_labs = pickle.load(f)\n",
    "\n",
    "print(f'Shape of classification image array: {arr_cl_data.shape}')\n",
    "print(f'Shape of classification label array: {arr_cl_labs.shape}')"
   ]
  },
  {
   "cell_type": "code",
   "execution_count": null,
   "metadata": {},
   "outputs": [],
   "source": [
    "sample_idxs = np.random.choice(arr_cl_data.shape[0], size=12)\n",
    "\n",
    "fig, axs = plt.subplots(2,6)\n",
    "fig.set_figwidth(14)\n",
    "fig.set_figheight(6)\n",
    "\n",
    "for plot_idx in range(12):\n",
    "    axs[plot_idx//6, plot_idx%6].imshow(arr_cl_data[sample_idxs[plot_idx]])\n",
    "    text = CAT_NAMES[np.argmax(arr_cl_labs[sample_idxs[plot_idx]])]\n",
    "    axs[plot_idx//6, plot_idx%6].axis(\"off\")\n",
    "    axs[plot_idx//6, plot_idx%6].set_title(str(text))"
   ]
  }
 ],
 "metadata": {
  "language_info": {
   "name": "python"
  },
  "orig_nbformat": 4
 },
 "nbformat": 4,
 "nbformat_minor": 2
}

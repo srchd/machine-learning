{
 "cells": [
  {
   "cell_type": "markdown",
   "metadata": {},
   "source": [
    "[![Open In Colab](https://colab.research.google.com/assets/colab-badge.svg)](https://colab.research.google.com/github/srchd/machine-learning/blob/visu/setting-up-visu/plane/visu.ipynb)"
   ]
  },
  {
   "cell_type": "code",
   "execution_count": null,
   "metadata": {},
   "outputs": [],
   "source": [
    "import os\n",
    "import pickle\n",
    "\n",
    "import matplotlib.pyplot as plt\n",
    "\n",
    "import tensorflow as tf\n",
    "\n",
    "from tensorflow.keras.models import Model, Sequential\n",
    "from tensorflow.keras.layers import Dropout, Input, Conv2D, AveragePooling2D, MaxPooling2D, Flatten, Dense\n",
    "from tensorflow.keras.callbacks import EarlyStopping, ModelCheckpoint\n",
    "from tensorflow.keras.preprocessing.image import ImageDataGenerator\n",
    "import tensorflow.keras.optimizers\n",
    "\n",
    "!wget -nc -P datasets/ https://github.com/srchd/machine-learning/tree/visu/setting-up-visu/plane/datasets/class_data.pkl\n",
    "!wget -nc -P datasets/ https://github.com/srchd/machine-learning/tree/visu/setting-up-visu/plane/datasets/class_label.pkl\n",
    "\n",
    "\n",
    "CAT_NAMES = ['aeroplane', 'bird', 'boat', 'bus', 'car', 'cat', 'cow', 'dog', 'horse', 'sheep']\n",
    "\n",
    "with open('datasets/class_data.pkl', 'rb') as f:\n",
    "    arr_cl_data = pickle.load(f)\n",
    "\n",
    "with open('datasets/class_label.pkl', 'rb') as f:\n",
    "    arr_cl_labs = pickle.load(f)\n",
    "\n",
    "print(f'Shape of classification image array: {arr_cl_data.shape}')\n",
    "print(f'Shape of classification label array: {arr_cl_labs.shape}')"
   ]
  }
 ],
 "metadata": {
  "language_info": {
   "name": "python"
  },
  "orig_nbformat": 4
 },
 "nbformat": 4,
 "nbformat_minor": 2
}
